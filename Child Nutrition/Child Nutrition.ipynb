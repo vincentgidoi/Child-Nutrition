{
 "cells": [
  {
   "cell_type": "code",
   "execution_count": 3,
   "id": "b1e656e4",
   "metadata": {},
   "outputs": [],
   "source": [
    "import pandas as pd\n",
    "import numpy as np\n",
    "from pandas import Series, DataFrame"
   ]
  },
  {
   "cell_type": "code",
   "execution_count": 17,
   "id": "067058f8",
   "metadata": {},
   "outputs": [],
   "source": [
    "nutrition_df = pd.read_csv('ChildNutrition.csv')"
   ]
  },
  {
   "cell_type": "code",
   "execution_count": 18,
   "id": "642c0345",
   "metadata": {},
   "outputs": [
    {
     "data": {
      "text/html": [
       "<div>\n",
       "<style scoped>\n",
       "    .dataframe tbody tr th:only-of-type {\n",
       "        vertical-align: middle;\n",
       "    }\n",
       "\n",
       "    .dataframe tbody tr th {\n",
       "        vertical-align: top;\n",
       "    }\n",
       "\n",
       "    .dataframe thead th {\n",
       "        text-align: right;\n",
       "    }\n",
       "</style>\n",
       "<table border=\"1\" class=\"dataframe\">\n",
       "  <thead>\n",
       "    <tr style=\"text-align: right;\">\n",
       "      <th></th>\n",
       "      <th>CaseID</th>\n",
       "      <th>MonthlyIncome</th>\n",
       "      <th>ChildBirthWeight</th>\n",
       "      <th>ChildAge</th>\n",
       "      <th>ParentsHighestEducation</th>\n",
       "      <th>Gender</th>\n",
       "      <th>Birthweight</th>\n",
       "    </tr>\n",
       "  </thead>\n",
       "  <tbody>\n",
       "    <tr>\n",
       "      <th>0</th>\n",
       "      <td>1</td>\n",
       "      <td>70</td>\n",
       "      <td>1.89</td>\n",
       "      <td>29</td>\n",
       "      <td>No Education</td>\n",
       "      <td>Female</td>\n",
       "      <td>Low Birthweight</td>\n",
       "    </tr>\n",
       "    <tr>\n",
       "      <th>1</th>\n",
       "      <td>2</td>\n",
       "      <td>90</td>\n",
       "      <td>2.53</td>\n",
       "      <td>8</td>\n",
       "      <td>Secondary</td>\n",
       "      <td>Female</td>\n",
       "      <td>Normal</td>\n",
       "    </tr>\n",
       "    <tr>\n",
       "      <th>2</th>\n",
       "      <td>3</td>\n",
       "      <td>160</td>\n",
       "      <td>3.00</td>\n",
       "      <td>10</td>\n",
       "      <td>Primary</td>\n",
       "      <td>Male</td>\n",
       "      <td>Normal</td>\n",
       "    </tr>\n",
       "    <tr>\n",
       "      <th>3</th>\n",
       "      <td>4</td>\n",
       "      <td>150</td>\n",
       "      <td>2.86</td>\n",
       "      <td>28</td>\n",
       "      <td>Secondary</td>\n",
       "      <td>Male</td>\n",
       "      <td>Normal</td>\n",
       "    </tr>\n",
       "    <tr>\n",
       "      <th>4</th>\n",
       "      <td>5</td>\n",
       "      <td>150</td>\n",
       "      <td>3.19</td>\n",
       "      <td>3</td>\n",
       "      <td>Secondary</td>\n",
       "      <td>Male</td>\n",
       "      <td>Normal</td>\n",
       "    </tr>\n",
       "  </tbody>\n",
       "</table>\n",
       "</div>"
      ],
      "text/plain": [
       "   CaseID  MonthlyIncome   ChildBirthWeight  ChildAge ParentsHighestEducation  \\\n",
       "0       1              70              1.89        29            No Education   \n",
       "1       2              90              2.53         8               Secondary   \n",
       "2       3             160              3.00        10                 Primary   \n",
       "3       4             150              2.86        28               Secondary   \n",
       "4       5             150              3.19         3               Secondary   \n",
       "\n",
       "   Gender      Birthweight  \n",
       "0  Female  Low Birthweight  \n",
       "1  Female           Normal  \n",
       "2    Male           Normal  \n",
       "3    Male           Normal  \n",
       "4    Male           Normal  "
      ]
     },
     "execution_count": 18,
     "metadata": {},
     "output_type": "execute_result"
    }
   ],
   "source": [
    "nutrition_df.head()"
   ]
  },
  {
   "cell_type": "code",
   "execution_count": 19,
   "id": "b00d8126",
   "metadata": {},
   "outputs": [
    {
     "data": {
      "text/plain": [
       "CaseID                       int64\n",
       "MonthlyIncome                int64\n",
       "ChildBirthWeight           float64\n",
       "ChildAge                     int64\n",
       "ParentsHighestEducation     object\n",
       "Gender                      object\n",
       "Birthweight                 object\n",
       "dtype: object"
      ]
     },
     "execution_count": 19,
     "metadata": {},
     "output_type": "execute_result"
    }
   ],
   "source": [
    "nutrition_df.dtypes"
   ]
  },
  {
   "cell_type": "code",
   "execution_count": 16,
   "id": "bb98c39b",
   "metadata": {},
   "outputs": [
    {
     "data": {
      "text/html": [
       "<div>\n",
       "<style scoped>\n",
       "    .dataframe tbody tr th:only-of-type {\n",
       "        vertical-align: middle;\n",
       "    }\n",
       "\n",
       "    .dataframe tbody tr th {\n",
       "        vertical-align: top;\n",
       "    }\n",
       "\n",
       "    .dataframe thead th {\n",
       "        text-align: right;\n",
       "    }\n",
       "</style>\n",
       "<table border=\"1\" class=\"dataframe\">\n",
       "  <thead>\n",
       "    <tr style=\"text-align: right;\">\n",
       "      <th></th>\n",
       "      <th>CaseID</th>\n",
       "      <th>MonthlyIncome</th>\n",
       "      <th>ChildBirthWeight</th>\n",
       "      <th>ChildAge</th>\n",
       "    </tr>\n",
       "  </thead>\n",
       "  <tbody>\n",
       "    <tr>\n",
       "      <th>count</th>\n",
       "      <td>413.000000</td>\n",
       "      <td>413.000000</td>\n",
       "      <td>413.000000</td>\n",
       "      <td>413.000000</td>\n",
       "    </tr>\n",
       "    <tr>\n",
       "      <th>mean</th>\n",
       "      <td>210.849879</td>\n",
       "      <td>203.389831</td>\n",
       "      <td>2.808886</td>\n",
       "      <td>18.673123</td>\n",
       "    </tr>\n",
       "    <tr>\n",
       "      <th>std</th>\n",
       "      <td>125.403743</td>\n",
       "      <td>104.131338</td>\n",
       "      <td>0.392042</td>\n",
       "      <td>9.649799</td>\n",
       "    </tr>\n",
       "    <tr>\n",
       "      <th>min</th>\n",
       "      <td>1.000000</td>\n",
       "      <td>70.000000</td>\n",
       "      <td>1.840000</td>\n",
       "      <td>3.000000</td>\n",
       "    </tr>\n",
       "    <tr>\n",
       "      <th>25%</th>\n",
       "      <td>104.000000</td>\n",
       "      <td>110.000000</td>\n",
       "      <td>2.550000</td>\n",
       "      <td>10.000000</td>\n",
       "    </tr>\n",
       "    <tr>\n",
       "      <th>50%</th>\n",
       "      <td>207.000000</td>\n",
       "      <td>180.000000</td>\n",
       "      <td>2.840000</td>\n",
       "      <td>18.000000</td>\n",
       "    </tr>\n",
       "    <tr>\n",
       "      <th>75%</th>\n",
       "      <td>310.000000</td>\n",
       "      <td>280.000000</td>\n",
       "      <td>3.070000</td>\n",
       "      <td>27.000000</td>\n",
       "    </tr>\n",
       "    <tr>\n",
       "      <th>max</th>\n",
       "      <td>450.000000</td>\n",
       "      <td>490.000000</td>\n",
       "      <td>3.590000</td>\n",
       "      <td>36.000000</td>\n",
       "    </tr>\n",
       "  </tbody>\n",
       "</table>\n",
       "</div>"
      ],
      "text/plain": [
       "           CaseID  MonthlyIncome   ChildBirthWeight    ChildAge\n",
       "count  413.000000      413.000000        413.000000  413.000000\n",
       "mean   210.849879      203.389831          2.808886   18.673123\n",
       "std    125.403743      104.131338          0.392042    9.649799\n",
       "min      1.000000       70.000000          1.840000    3.000000\n",
       "25%    104.000000      110.000000          2.550000   10.000000\n",
       "50%    207.000000      180.000000          2.840000   18.000000\n",
       "75%    310.000000      280.000000          3.070000   27.000000\n",
       "max    450.000000      490.000000          3.590000   36.000000"
      ]
     },
     "execution_count": 16,
     "metadata": {},
     "output_type": "execute_result"
    }
   ],
   "source": [
    "nutrition_df.describe()"
   ]
  },
  {
   "cell_type": "code",
   "execution_count": 25,
   "id": "cb2e16fd",
   "metadata": {},
   "outputs": [
    {
     "data": {
      "text/plain": [
       "Male      215\n",
       "Female    198\n",
       "Name: Gender, dtype: int64"
      ]
     },
     "execution_count": 25,
     "metadata": {},
     "output_type": "execute_result"
    }
   ],
   "source": [
    "nutrition_df['Gender'].value_counts()"
   ]
  },
  {
   "cell_type": "code",
   "execution_count": 26,
   "id": "698f0c2e",
   "metadata": {},
   "outputs": [
    {
     "data": {
      "text/plain": [
       "Primary         161\n",
       "Secondary       156\n",
       "Tertiary         49\n",
       "No Education     47\n",
       "Name: ParentsHighestEducation, dtype: int64"
      ]
     },
     "execution_count": 26,
     "metadata": {},
     "output_type": "execute_result"
    }
   ],
   "source": [
    "nutrition_df['ParentsHighestEducation'].value_counts()"
   ]
  },
  {
   "cell_type": "code",
   "execution_count": 27,
   "id": "1d44dd0b",
   "metadata": {},
   "outputs": [
    {
     "data": {
      "text/plain": [
       "Normal             331\n",
       "Low Birthweight     82\n",
       "Name: Birthweight, dtype: int64"
      ]
     },
     "execution_count": 27,
     "metadata": {},
     "output_type": "execute_result"
    }
   ],
   "source": [
    "nutrition_df['Birthweight'].value_counts()"
   ]
  },
  {
   "cell_type": "code",
   "execution_count": 15,
   "id": "15439560",
   "metadata": {},
   "outputs": [],
   "source": [
    "import matplotlib.pyplot as plt\n",
    "import seaborn as sns\n",
    "%matplotlib inline"
   ]
  },
  {
   "cell_type": "code",
   "execution_count": 19,
   "id": "558d1aac",
   "metadata": {},
   "outputs": [
    {
     "data": {
      "text/plain": [
       "<seaborn.axisgrid.FacetGrid at 0x29e87c65e50>"
      ]
     },
     "execution_count": 19,
     "metadata": {},
     "output_type": "execute_result"
    },
    {
     "data": {
      "image/png": "[encoded data removed]",
      "text/plain": [
       "<Figure size 360x360 with 1 Axes>"
      ]
     },
     "metadata": {
      "needs_background": "light"
     },
     "output_type": "display_data"
    }
   ],
   "source": [
    "sns.catplot(x='Gender',data=nutrition_df, kind='count')"
   ]
  },
  {
   "cell_type": "code",
   "execution_count": 49,
   "id": "5ce82b0c",
   "metadata": {},
   "outputs": [
    {
     "data": {
      "text/plain": [
       "<seaborn.axisgrid.FacetGrid at 0x29e8d092070>"
      ]
     },
     "execution_count": 49,
     "metadata": {},
     "output_type": "execute_result"
    },
    {
     "data": {
      "image/png": "[encoded data removed]",
      "text/plain": [
       "<Figure size 360x360 with 1 Axes>"
      ]
     },
     "metadata": {
      "needs_background": "light"
     },
     "output_type": "display_data"
    }
   ],
   "source": [
    "sns.catplot(x='Birthweight',data=nutrition_df, palette='summer',kind='count')"
   ]
  },
  {
   "cell_type": "code",
   "execution_count": 54,
   "id": "d9880193",
   "metadata": {},
   "outputs": [
    {
     "data": {
      "text/plain": [
       "<seaborn.axisgrid.FacetGrid at 0x29e8d12fca0>"
      ]
     },
     "execution_count": 54,
     "metadata": {},
     "output_type": "execute_result"
    },
    {
     "data": {
      "image/png": "[encoded data removed]",
      "text/plain": [
       "<Figure size 360x360 with 1 Axes>"
      ]
     },
     "metadata": {
      "needs_background": "light"
     },
     "output_type": "display_data"
    }
   ],
   "source": [
    "sns.catplot(x='ParentsHighestEducation',data=nutrition_df,  kind='count')"
   ]
  },
  {
   "cell_type": "code",
   "execution_count": 12,
   "id": "1c679a2f",
   "metadata": {},
   "outputs": [
    {
     "data": {
      "text/plain": [
       "<AxesSubplot:>"
      ]
     },
     "execution_count": 12,
     "metadata": {},
     "output_type": "execute_result"
    },
    {
     "data": {
      "image/png": "[encoded data removed]",
      "text/plain": [
       "<Figure size 432x288 with 1 Axes>"
      ]
     },
     "metadata": {
      "needs_background": "light"
     },
     "output_type": "display_data"
    }
   ],
   "source": [
    "nutrition_df['ChildAge'].hist(bins=40)\n",
    "#plt.xlabel(\"\")\n",
    "#plt.ylabel(\"\")"
   ]
  },
  {
   "cell_type": "code",
   "execution_count": 11,
   "id": "c6c2ec84",
   "metadata": {},
   "outputs": [
    {
     "data": {
      "text/plain": [
       "<AxesSubplot:>"
      ]
     },
     "execution_count": 11,
     "metadata": {},
     "output_type": "execute_result"
    },
    {
     "data": {
      "image/png": "[encoded data removed]",
      "text/plain": [
       "<Figure size 432x288 with 1 Axes>"
      ]
     },
     "metadata": {
      "needs_background": "light"
     },
     "output_type": "display_data"
    }
   ],
   "source": [
    "nutrition_df['ChildBirthWeight'].hist(bins=80)"
   ]
  },
  {
   "cell_type": "code",
   "execution_count": 13,
   "id": "f989d053",
   "metadata": {},
   "outputs": [
    {
     "data": {
      "text/html": [
       "<div>\n",
       "<style scoped>\n",
       "    .dataframe tbody tr th:only-of-type {\n",
       "        vertical-align: middle;\n",
       "    }\n",
       "\n",
       "    .dataframe tbody tr th {\n",
       "        vertical-align: top;\n",
       "    }\n",
       "\n",
       "    .dataframe thead th {\n",
       "        text-align: right;\n",
       "    }\n",
       "</style>\n",
       "<table border=\"1\" class=\"dataframe\">\n",
       "  <thead>\n",
       "    <tr style=\"text-align: right;\">\n",
       "      <th></th>\n",
       "      <th>CaseID</th>\n",
       "      <th>MonthlyIncome</th>\n",
       "      <th>ChildBirthWeight</th>\n",
       "      <th>ChildAge</th>\n",
       "    </tr>\n",
       "  </thead>\n",
       "  <tbody>\n",
       "    <tr>\n",
       "      <th>CaseID</th>\n",
       "      <td>1.000000</td>\n",
       "      <td>0.526862</td>\n",
       "      <td>0.083790</td>\n",
       "      <td>0.035124</td>\n",
       "    </tr>\n",
       "    <tr>\n",
       "      <th>MonthlyIncome</th>\n",
       "      <td>0.526862</td>\n",
       "      <td>1.000000</td>\n",
       "      <td>0.193078</td>\n",
       "      <td>0.047990</td>\n",
       "    </tr>\n",
       "    <tr>\n",
       "      <th>ChildBirthWeight</th>\n",
       "      <td>0.083790</td>\n",
       "      <td>0.193078</td>\n",
       "      <td>1.000000</td>\n",
       "      <td>0.002803</td>\n",
       "    </tr>\n",
       "    <tr>\n",
       "      <th>ChildAge</th>\n",
       "      <td>0.035124</td>\n",
       "      <td>0.047990</td>\n",
       "      <td>0.002803</td>\n",
       "      <td>1.000000</td>\n",
       "    </tr>\n",
       "  </tbody>\n",
       "</table>\n",
       "</div>"
      ],
      "text/plain": [
       "                    CaseID  MonthlyIncome   ChildBirthWeight  ChildAge\n",
       "CaseID            1.000000        0.526862          0.083790  0.035124\n",
       "MonthlyIncome     0.526862        1.000000          0.193078  0.047990\n",
       "ChildBirthWeight  0.083790        0.193078          1.000000  0.002803\n",
       "ChildAge          0.035124        0.047990          0.002803  1.000000"
      ]
     },
     "execution_count": 13,
     "metadata": {},
     "output_type": "execute_result"
    }
   ],
   "source": [
    "nutrition_df.corr(method='pearson')"
   ]
  },
  {
   "cell_type": "code",
   "execution_count": 62,
   "id": "9382b4ba",
   "metadata": {
    "scrolled": true
   },
   "outputs": [
    {
     "data": {
      "text/plain": [
       "<AxesSubplot:>"
      ]
     },
     "execution_count": 62,
     "metadata": {},
     "output_type": "execute_result"
    },
    {
     "data": {
      "image/png": "[encoded data removed]",
      "text/plain": [
       "<Figure size 432x288 with 2 Axes>"
      ]
     },
     "metadata": {
      "needs_background": "light"
     },
     "output_type": "display_data"
    }
   ],
   "source": [
    "sns.heatmap(nutrition_df.corr(), annot= True)"
   ]
  },
  {
   "cell_type": "code",
   "execution_count": null,
   "id": "1f3f7ab5",
   "metadata": {},
   "outputs": [],
   "source": []
  }
 ],
 "metadata": {
  "kernelspec": {
   "display_name": "Python 3 (ipykernel)",
   "language": "python",
   "name": "python3"
  },
  "language_info": {
   "codemirror_mode": {
    "name": "ipython",
    "version": 3
   },
   "file_extension": ".py",
   "mimetype": "text/x-python",
   "name": "python",
   "nbconvert_exporter": "python",
   "pygments_lexer": "ipython3",
   "version": "3.9.7"
  }
 },
 "nbformat": 4,
 "nbformat_minor": 5
}
